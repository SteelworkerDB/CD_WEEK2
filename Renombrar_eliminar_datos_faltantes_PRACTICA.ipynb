{
  "nbformat": 4,
  "nbformat_minor": 0,
  "metadata": {
    "colab": {
      "provenance": [],
      "authorship_tag": "ABX9TyPBqdeVoqRY6qX5eiuX+IZz",
      "include_colab_link": true
    },
    "kernelspec": {
      "name": "python3",
      "display_name": "Python 3"
    },
    "language_info": {
      "name": "python"
    }
  },
  "cells": [
    {
      "cell_type": "markdown",
      "metadata": {
        "id": "view-in-github",
        "colab_type": "text"
      },
      "source": [
        "<a href=\"https://colab.research.google.com/github/SteelworkerDB/CD_WEEK2/blob/main/Renombrar_eliminar_datos_faltantes_PRACTICA.ipynb\" target=\"_parent\"><img src=\"https://colab.research.google.com/assets/colab-badge.svg\" alt=\"Open In Colab\"/></a>"
      ]
    },
    {
      "cell_type": "markdown",
      "source": [
        "PRACTICA RENOMBRAR, ELIMINAR Y DATOS FALTANTES"
      ],
      "metadata": {
        "id": "Lc4N1l2VS81n"
      }
    },
    {
      "cell_type": "code",
      "execution_count": 57,
      "metadata": {
        "colab": {
          "base_uri": "https://localhost:8080/"
        },
        "id": "xtyMb7y4SnLJ",
        "outputId": "441a9847-2017-45d9-a6d5-86f5ae8a3daf"
      },
      "outputs": [
        {
          "output_type": "stream",
          "name": "stdout",
          "text": [
            "Drive already mounted at /content/drive; to attempt to forcibly remount, call drive.mount(\"/content/drive\", force_remount=True).\n"
          ]
        }
      ],
      "source": [
        "from google.colab import drive\n",
        "drive.mount('/content/drive')"
      ]
    },
    {
      "cell_type": "code",
      "source": [
        "import pandas as pd"
      ],
      "metadata": {
        "id": "wKPZ7UhvBXxq"
      },
      "execution_count": 58,
      "outputs": []
    },
    {
      "cell_type": "markdown",
      "source": [
        "CARGA DE DATOS\n",
        "\n",
        "---\n",
        "\n"
      ],
      "metadata": {
        "id": "G3DjMJsW-t4o"
      }
    },
    {
      "cell_type": "code",
      "source": [
        "filename='/content/drive/MyDrive/Codificacion Dojo/RailsToTrails_National Count Data_week.xlsx'\n",
        "bike_df=pd.read_excel(filename)\n",
        "bike_df.head()"
      ],
      "metadata": {
        "colab": {
          "base_uri": "https://localhost:8080/",
          "height": 206
        },
        "id": "EuHWOgocBIQE",
        "outputId": "0be54dda-b3b6-459d-e1ef-32ea31df1500"
      },
      "execution_count": 59,
      "outputs": [
        {
          "output_type": "execute_result",
          "data": {
            "text/plain": [
              "  Timeframe    Week of   2019 counts (31 counters)  \\\n",
              "0    Week 1 2020-12-30                      167679   \n",
              "1    Week 2 2020-01-06                       82340   \n",
              "2    Week 3 2020-01-13                       62315   \n",
              "3    Week 4 2020-01-20                       75801   \n",
              "4    Week 5 2020-01-27                       75841   \n",
              "\n",
              "    2020 counts (31 counters)  2021 Counts  Change 2019-2020  Unnamed: 6  \\\n",
              "0                      183546          NaN          0.094627    1.094627   \n",
              "1                       97140          NaN          0.179743  117.974253   \n",
              "2                       75782          NaN          0.216112  121.611169   \n",
              "3                       83809          NaN          0.105645  110.564504   \n",
              "4                       94738          NaN          0.249166  124.916602   \n",
              "\n",
              "   Unnamed: 7  Unnamed: 8  Unnamed: 9  \n",
              "0         NaN         NaN         NaN  \n",
              "1         NaN         NaN         NaN  \n",
              "2         NaN         NaN         NaN  \n",
              "3         NaN         NaN         NaN  \n",
              "4         NaN         NaN         NaN  "
            ],
            "text/html": [
              "\n",
              "  <div id=\"df-70b45601-56c4-4d96-969c-02508900ff1d\">\n",
              "    <div class=\"colab-df-container\">\n",
              "      <div>\n",
              "<style scoped>\n",
              "    .dataframe tbody tr th:only-of-type {\n",
              "        vertical-align: middle;\n",
              "    }\n",
              "\n",
              "    .dataframe tbody tr th {\n",
              "        vertical-align: top;\n",
              "    }\n",
              "\n",
              "    .dataframe thead th {\n",
              "        text-align: right;\n",
              "    }\n",
              "</style>\n",
              "<table border=\"1\" class=\"dataframe\">\n",
              "  <thead>\n",
              "    <tr style=\"text-align: right;\">\n",
              "      <th></th>\n",
              "      <th>Timeframe</th>\n",
              "      <th>Week of</th>\n",
              "      <th>2019 counts (31 counters)</th>\n",
              "      <th>2020 counts (31 counters)</th>\n",
              "      <th>2021 Counts</th>\n",
              "      <th>Change 2019-2020</th>\n",
              "      <th>Unnamed: 6</th>\n",
              "      <th>Unnamed: 7</th>\n",
              "      <th>Unnamed: 8</th>\n",
              "      <th>Unnamed: 9</th>\n",
              "    </tr>\n",
              "  </thead>\n",
              "  <tbody>\n",
              "    <tr>\n",
              "      <th>0</th>\n",
              "      <td>Week 1</td>\n",
              "      <td>2020-12-30</td>\n",
              "      <td>167679</td>\n",
              "      <td>183546</td>\n",
              "      <td>NaN</td>\n",
              "      <td>0.094627</td>\n",
              "      <td>1.094627</td>\n",
              "      <td>NaN</td>\n",
              "      <td>NaN</td>\n",
              "      <td>NaN</td>\n",
              "    </tr>\n",
              "    <tr>\n",
              "      <th>1</th>\n",
              "      <td>Week 2</td>\n",
              "      <td>2020-01-06</td>\n",
              "      <td>82340</td>\n",
              "      <td>97140</td>\n",
              "      <td>NaN</td>\n",
              "      <td>0.179743</td>\n",
              "      <td>117.974253</td>\n",
              "      <td>NaN</td>\n",
              "      <td>NaN</td>\n",
              "      <td>NaN</td>\n",
              "    </tr>\n",
              "    <tr>\n",
              "      <th>2</th>\n",
              "      <td>Week 3</td>\n",
              "      <td>2020-01-13</td>\n",
              "      <td>62315</td>\n",
              "      <td>75782</td>\n",
              "      <td>NaN</td>\n",
              "      <td>0.216112</td>\n",
              "      <td>121.611169</td>\n",
              "      <td>NaN</td>\n",
              "      <td>NaN</td>\n",
              "      <td>NaN</td>\n",
              "    </tr>\n",
              "    <tr>\n",
              "      <th>3</th>\n",
              "      <td>Week 4</td>\n",
              "      <td>2020-01-20</td>\n",
              "      <td>75801</td>\n",
              "      <td>83809</td>\n",
              "      <td>NaN</td>\n",
              "      <td>0.105645</td>\n",
              "      <td>110.564504</td>\n",
              "      <td>NaN</td>\n",
              "      <td>NaN</td>\n",
              "      <td>NaN</td>\n",
              "    </tr>\n",
              "    <tr>\n",
              "      <th>4</th>\n",
              "      <td>Week 5</td>\n",
              "      <td>2020-01-27</td>\n",
              "      <td>75841</td>\n",
              "      <td>94738</td>\n",
              "      <td>NaN</td>\n",
              "      <td>0.249166</td>\n",
              "      <td>124.916602</td>\n",
              "      <td>NaN</td>\n",
              "      <td>NaN</td>\n",
              "      <td>NaN</td>\n",
              "    </tr>\n",
              "  </tbody>\n",
              "</table>\n",
              "</div>\n",
              "      <button class=\"colab-df-convert\" onclick=\"convertToInteractive('df-70b45601-56c4-4d96-969c-02508900ff1d')\"\n",
              "              title=\"Convert this dataframe to an interactive table.\"\n",
              "              style=\"display:none;\">\n",
              "        \n",
              "  <svg xmlns=\"http://www.w3.org/2000/svg\" height=\"24px\"viewBox=\"0 0 24 24\"\n",
              "       width=\"24px\">\n",
              "    <path d=\"M0 0h24v24H0V0z\" fill=\"none\"/>\n",
              "    <path d=\"M18.56 5.44l.94 2.06.94-2.06 2.06-.94-2.06-.94-.94-2.06-.94 2.06-2.06.94zm-11 1L8.5 8.5l.94-2.06 2.06-.94-2.06-.94L8.5 2.5l-.94 2.06-2.06.94zm10 10l.94 2.06.94-2.06 2.06-.94-2.06-.94-.94-2.06-.94 2.06-2.06.94z\"/><path d=\"M17.41 7.96l-1.37-1.37c-.4-.4-.92-.59-1.43-.59-.52 0-1.04.2-1.43.59L10.3 9.45l-7.72 7.72c-.78.78-.78 2.05 0 2.83L4 21.41c.39.39.9.59 1.41.59.51 0 1.02-.2 1.41-.59l7.78-7.78 2.81-2.81c.8-.78.8-2.07 0-2.86zM5.41 20L4 18.59l7.72-7.72 1.47 1.35L5.41 20z\"/>\n",
              "  </svg>\n",
              "      </button>\n",
              "      \n",
              "  <style>\n",
              "    .colab-df-container {\n",
              "      display:flex;\n",
              "      flex-wrap:wrap;\n",
              "      gap: 12px;\n",
              "    }\n",
              "\n",
              "    .colab-df-convert {\n",
              "      background-color: #E8F0FE;\n",
              "      border: none;\n",
              "      border-radius: 50%;\n",
              "      cursor: pointer;\n",
              "      display: none;\n",
              "      fill: #1967D2;\n",
              "      height: 32px;\n",
              "      padding: 0 0 0 0;\n",
              "      width: 32px;\n",
              "    }\n",
              "\n",
              "    .colab-df-convert:hover {\n",
              "      background-color: #E2EBFA;\n",
              "      box-shadow: 0px 1px 2px rgba(60, 64, 67, 0.3), 0px 1px 3px 1px rgba(60, 64, 67, 0.15);\n",
              "      fill: #174EA6;\n",
              "    }\n",
              "\n",
              "    [theme=dark] .colab-df-convert {\n",
              "      background-color: #3B4455;\n",
              "      fill: #D2E3FC;\n",
              "    }\n",
              "\n",
              "    [theme=dark] .colab-df-convert:hover {\n",
              "      background-color: #434B5C;\n",
              "      box-shadow: 0px 1px 3px 1px rgba(0, 0, 0, 0.15);\n",
              "      filter: drop-shadow(0px 1px 2px rgba(0, 0, 0, 0.3));\n",
              "      fill: #FFFFFF;\n",
              "    }\n",
              "  </style>\n",
              "\n",
              "      <script>\n",
              "        const buttonEl =\n",
              "          document.querySelector('#df-70b45601-56c4-4d96-969c-02508900ff1d button.colab-df-convert');\n",
              "        buttonEl.style.display =\n",
              "          google.colab.kernel.accessAllowed ? 'block' : 'none';\n",
              "\n",
              "        async function convertToInteractive(key) {\n",
              "          const element = document.querySelector('#df-70b45601-56c4-4d96-969c-02508900ff1d');\n",
              "          const dataTable =\n",
              "            await google.colab.kernel.invokeFunction('convertToInteractive',\n",
              "                                                     [key], {});\n",
              "          if (!dataTable) return;\n",
              "\n",
              "          const docLinkHtml = 'Like what you see? Visit the ' +\n",
              "            '<a target=\"_blank\" href=https://colab.research.google.com/notebooks/data_table.ipynb>data table notebook</a>'\n",
              "            + ' to learn more about interactive tables.';\n",
              "          element.innerHTML = '';\n",
              "          dataTable['output_type'] = 'display_data';\n",
              "          await google.colab.output.renderOutput(dataTable, element);\n",
              "          const docLink = document.createElement('div');\n",
              "          docLink.innerHTML = docLinkHtml;\n",
              "          element.appendChild(docLink);\n",
              "        }\n",
              "      </script>\n",
              "    </div>\n",
              "  </div>\n",
              "  "
            ]
          },
          "metadata": {},
          "execution_count": 59
        }
      ]
    },
    {
      "cell_type": "markdown",
      "source": [
        "1.  ELIMINAR COLUMNAS INNECESARIAS\n",
        "\n",
        "---\n",
        "\n"
      ],
      "metadata": {
        "id": "cRB-V6EeBl7f"
      }
    },
    {
      "cell_type": "code",
      "source": [
        "bike_df.drop(columns=['Unnamed: 7','Unnamed: 8','Unnamed: 9'],inplace=True)\n",
        "bike_df.head()"
      ],
      "metadata": {
        "colab": {
          "base_uri": "https://localhost:8080/",
          "height": 206
        },
        "id": "Xp_dvItQBr_Z",
        "outputId": "a097c6ac-8d2f-453f-ec65-9ec661060a93"
      },
      "execution_count": 60,
      "outputs": [
        {
          "output_type": "execute_result",
          "data": {
            "text/plain": [
              "  Timeframe    Week of   2019 counts (31 counters)  \\\n",
              "0    Week 1 2020-12-30                      167679   \n",
              "1    Week 2 2020-01-06                       82340   \n",
              "2    Week 3 2020-01-13                       62315   \n",
              "3    Week 4 2020-01-20                       75801   \n",
              "4    Week 5 2020-01-27                       75841   \n",
              "\n",
              "    2020 counts (31 counters)  2021 Counts  Change 2019-2020  Unnamed: 6  \n",
              "0                      183546          NaN          0.094627    1.094627  \n",
              "1                       97140          NaN          0.179743  117.974253  \n",
              "2                       75782          NaN          0.216112  121.611169  \n",
              "3                       83809          NaN          0.105645  110.564504  \n",
              "4                       94738          NaN          0.249166  124.916602  "
            ],
            "text/html": [
              "\n",
              "  <div id=\"df-b97f2800-0ec4-404d-9011-880753ceb90b\">\n",
              "    <div class=\"colab-df-container\">\n",
              "      <div>\n",
              "<style scoped>\n",
              "    .dataframe tbody tr th:only-of-type {\n",
              "        vertical-align: middle;\n",
              "    }\n",
              "\n",
              "    .dataframe tbody tr th {\n",
              "        vertical-align: top;\n",
              "    }\n",
              "\n",
              "    .dataframe thead th {\n",
              "        text-align: right;\n",
              "    }\n",
              "</style>\n",
              "<table border=\"1\" class=\"dataframe\">\n",
              "  <thead>\n",
              "    <tr style=\"text-align: right;\">\n",
              "      <th></th>\n",
              "      <th>Timeframe</th>\n",
              "      <th>Week of</th>\n",
              "      <th>2019 counts (31 counters)</th>\n",
              "      <th>2020 counts (31 counters)</th>\n",
              "      <th>2021 Counts</th>\n",
              "      <th>Change 2019-2020</th>\n",
              "      <th>Unnamed: 6</th>\n",
              "    </tr>\n",
              "  </thead>\n",
              "  <tbody>\n",
              "    <tr>\n",
              "      <th>0</th>\n",
              "      <td>Week 1</td>\n",
              "      <td>2020-12-30</td>\n",
              "      <td>167679</td>\n",
              "      <td>183546</td>\n",
              "      <td>NaN</td>\n",
              "      <td>0.094627</td>\n",
              "      <td>1.094627</td>\n",
              "    </tr>\n",
              "    <tr>\n",
              "      <th>1</th>\n",
              "      <td>Week 2</td>\n",
              "      <td>2020-01-06</td>\n",
              "      <td>82340</td>\n",
              "      <td>97140</td>\n",
              "      <td>NaN</td>\n",
              "      <td>0.179743</td>\n",
              "      <td>117.974253</td>\n",
              "    </tr>\n",
              "    <tr>\n",
              "      <th>2</th>\n",
              "      <td>Week 3</td>\n",
              "      <td>2020-01-13</td>\n",
              "      <td>62315</td>\n",
              "      <td>75782</td>\n",
              "      <td>NaN</td>\n",
              "      <td>0.216112</td>\n",
              "      <td>121.611169</td>\n",
              "    </tr>\n",
              "    <tr>\n",
              "      <th>3</th>\n",
              "      <td>Week 4</td>\n",
              "      <td>2020-01-20</td>\n",
              "      <td>75801</td>\n",
              "      <td>83809</td>\n",
              "      <td>NaN</td>\n",
              "      <td>0.105645</td>\n",
              "      <td>110.564504</td>\n",
              "    </tr>\n",
              "    <tr>\n",
              "      <th>4</th>\n",
              "      <td>Week 5</td>\n",
              "      <td>2020-01-27</td>\n",
              "      <td>75841</td>\n",
              "      <td>94738</td>\n",
              "      <td>NaN</td>\n",
              "      <td>0.249166</td>\n",
              "      <td>124.916602</td>\n",
              "    </tr>\n",
              "  </tbody>\n",
              "</table>\n",
              "</div>\n",
              "      <button class=\"colab-df-convert\" onclick=\"convertToInteractive('df-b97f2800-0ec4-404d-9011-880753ceb90b')\"\n",
              "              title=\"Convert this dataframe to an interactive table.\"\n",
              "              style=\"display:none;\">\n",
              "        \n",
              "  <svg xmlns=\"http://www.w3.org/2000/svg\" height=\"24px\"viewBox=\"0 0 24 24\"\n",
              "       width=\"24px\">\n",
              "    <path d=\"M0 0h24v24H0V0z\" fill=\"none\"/>\n",
              "    <path d=\"M18.56 5.44l.94 2.06.94-2.06 2.06-.94-2.06-.94-.94-2.06-.94 2.06-2.06.94zm-11 1L8.5 8.5l.94-2.06 2.06-.94-2.06-.94L8.5 2.5l-.94 2.06-2.06.94zm10 10l.94 2.06.94-2.06 2.06-.94-2.06-.94-.94-2.06-.94 2.06-2.06.94z\"/><path d=\"M17.41 7.96l-1.37-1.37c-.4-.4-.92-.59-1.43-.59-.52 0-1.04.2-1.43.59L10.3 9.45l-7.72 7.72c-.78.78-.78 2.05 0 2.83L4 21.41c.39.39.9.59 1.41.59.51 0 1.02-.2 1.41-.59l7.78-7.78 2.81-2.81c.8-.78.8-2.07 0-2.86zM5.41 20L4 18.59l7.72-7.72 1.47 1.35L5.41 20z\"/>\n",
              "  </svg>\n",
              "      </button>\n",
              "      \n",
              "  <style>\n",
              "    .colab-df-container {\n",
              "      display:flex;\n",
              "      flex-wrap:wrap;\n",
              "      gap: 12px;\n",
              "    }\n",
              "\n",
              "    .colab-df-convert {\n",
              "      background-color: #E8F0FE;\n",
              "      border: none;\n",
              "      border-radius: 50%;\n",
              "      cursor: pointer;\n",
              "      display: none;\n",
              "      fill: #1967D2;\n",
              "      height: 32px;\n",
              "      padding: 0 0 0 0;\n",
              "      width: 32px;\n",
              "    }\n",
              "\n",
              "    .colab-df-convert:hover {\n",
              "      background-color: #E2EBFA;\n",
              "      box-shadow: 0px 1px 2px rgba(60, 64, 67, 0.3), 0px 1px 3px 1px rgba(60, 64, 67, 0.15);\n",
              "      fill: #174EA6;\n",
              "    }\n",
              "\n",
              "    [theme=dark] .colab-df-convert {\n",
              "      background-color: #3B4455;\n",
              "      fill: #D2E3FC;\n",
              "    }\n",
              "\n",
              "    [theme=dark] .colab-df-convert:hover {\n",
              "      background-color: #434B5C;\n",
              "      box-shadow: 0px 1px 3px 1px rgba(0, 0, 0, 0.15);\n",
              "      filter: drop-shadow(0px 1px 2px rgba(0, 0, 0, 0.3));\n",
              "      fill: #FFFFFF;\n",
              "    }\n",
              "  </style>\n",
              "\n",
              "      <script>\n",
              "        const buttonEl =\n",
              "          document.querySelector('#df-b97f2800-0ec4-404d-9011-880753ceb90b button.colab-df-convert');\n",
              "        buttonEl.style.display =\n",
              "          google.colab.kernel.accessAllowed ? 'block' : 'none';\n",
              "\n",
              "        async function convertToInteractive(key) {\n",
              "          const element = document.querySelector('#df-b97f2800-0ec4-404d-9011-880753ceb90b');\n",
              "          const dataTable =\n",
              "            await google.colab.kernel.invokeFunction('convertToInteractive',\n",
              "                                                     [key], {});\n",
              "          if (!dataTable) return;\n",
              "\n",
              "          const docLinkHtml = 'Like what you see? Visit the ' +\n",
              "            '<a target=\"_blank\" href=https://colab.research.google.com/notebooks/data_table.ipynb>data table notebook</a>'\n",
              "            + ' to learn more about interactive tables.';\n",
              "          element.innerHTML = '';\n",
              "          dataTable['output_type'] = 'display_data';\n",
              "          await google.colab.output.renderOutput(dataTable, element);\n",
              "          const docLink = document.createElement('div');\n",
              "          docLink.innerHTML = docLinkHtml;\n",
              "          element.appendChild(docLink);\n",
              "        }\n",
              "      </script>\n",
              "    </div>\n",
              "  </div>\n",
              "  "
            ]
          },
          "metadata": {},
          "execution_count": 60
        }
      ]
    },
    {
      "cell_type": "markdown",
      "source": [
        "2. VALORES FALTANTES\n",
        "\n",
        "\n",
        "---\n",
        "\n"
      ],
      "metadata": {
        "id": "xUmapWPXDItn"
      }
    },
    {
      "cell_type": "code",
      "source": [
        "bike_df.isna().sum()"
      ],
      "metadata": {
        "colab": {
          "base_uri": "https://localhost:8080/"
        },
        "id": "-kR_4rmvDO-C",
        "outputId": "b02e1c23-9262-42bc-a41a-5fe3cbbdca51"
      },
      "execution_count": 61,
      "outputs": [
        {
          "output_type": "execute_result",
          "data": {
            "text/plain": [
              "Timeframe                      0\n",
              "Week of                        0\n",
              " 2019 counts (31 counters)     0\n",
              " 2020 counts (31 counters)     0\n",
              "2021 Counts                   52\n",
              "Change 2019-2020               0\n",
              "Unnamed: 6                     0\n",
              "dtype: int64"
            ]
          },
          "metadata": {},
          "execution_count": 61
        }
      ]
    },
    {
      "cell_type": "markdown",
      "source": [
        "Los valores faltantes están en la columna '2021 Counts', y hay 52\n",
        "\n",
        "---\n",
        "\n"
      ],
      "metadata": {
        "id": "r8y16Z6tDezl"
      }
    },
    {
      "cell_type": "markdown",
      "source": [
        "3.  REEMPLAZAR VALORES FALTANTES EN LA COLUMNA 2021 COUNTS CON 0\n",
        "\n",
        "---\n",
        "\n"
      ],
      "metadata": {
        "id": "0DDEJ5aAEl3X"
      }
    },
    {
      "cell_type": "code",
      "source": [
        "bike_df.fillna(0, inplace=True)"
      ],
      "metadata": {
        "id": "lY-lJ4bfExTl"
      },
      "execution_count": 62,
      "outputs": []
    },
    {
      "cell_type": "code",
      "source": [
        "bike_df.isna().sum() #se han quitado los valores faltantes"
      ],
      "metadata": {
        "colab": {
          "base_uri": "https://localhost:8080/"
        },
        "id": "PzyjjuPBE6HT",
        "outputId": "196b70be-184b-4eb1-f6ea-6be3e166754a"
      },
      "execution_count": 63,
      "outputs": [
        {
          "output_type": "execute_result",
          "data": {
            "text/plain": [
              "Timeframe                     0\n",
              "Week of                       0\n",
              " 2019 counts (31 counters)    0\n",
              " 2020 counts (31 counters)    0\n",
              "2021 Counts                   0\n",
              "Change 2019-2020              0\n",
              "Unnamed: 6                    0\n",
              "dtype: int64"
            ]
          },
          "metadata": {},
          "execution_count": 63
        }
      ]
    },
    {
      "cell_type": "code",
      "source": [
        "(bike_df==0).sum() #cuenta los datos que son ceros en cada columna"
      ],
      "metadata": {
        "colab": {
          "base_uri": "https://localhost:8080/"
        },
        "id": "fa6wubSjGEkB",
        "outputId": "fc04f49b-ea14-493a-c6f3-93e9d5d274c0"
      },
      "execution_count": 64,
      "outputs": [
        {
          "output_type": "execute_result",
          "data": {
            "text/plain": [
              "Timeframe                      0\n",
              "Week of                        0\n",
              " 2019 counts (31 counters)     0\n",
              " 2020 counts (31 counters)     0\n",
              "2021 Counts                   52\n",
              "Change 2019-2020               0\n",
              "Unnamed: 6                     0\n",
              "dtype: int64"
            ]
          },
          "metadata": {},
          "execution_count": 64
        }
      ]
    },
    {
      "cell_type": "markdown",
      "source": [
        "4. BONUS: CAMBIO DE TITULO DE LA COLUMNA 2019 COUNTS.\n",
        "\n",
        "---\n",
        "\n"
      ],
      "metadata": {
        "id": "1F9tIHmwGoPw"
      }
    },
    {
      "cell_type": "code",
      "source": [
        "encabezados=list(bike_df) #esta funcion recupera los encabezados del dframe.\n",
        "print(encabezados)"
      ],
      "metadata": {
        "colab": {
          "base_uri": "https://localhost:8080/"
        },
        "id": "NOHQWktII_Qv",
        "outputId": "f523d13c-de6c-4974-d69e-f0b664302e2a"
      },
      "execution_count": 65,
      "outputs": [
        {
          "output_type": "stream",
          "name": "stdout",
          "text": [
            "['Timeframe', 'Week of', ' 2019 counts (31 counters)', ' 2020 counts (31 counters)', '2021 Counts', 'Change 2019-2020', 'Unnamed: 6']\n"
          ]
        }
      ]
    },
    {
      "cell_type": "code",
      "source": [
        "bike_df=bike_df.rename(columns={encabezados[2]:'counts_2019',}) #se reemplaza el nombre 2 del encabezado por counts_2019\n",
        "bike_df.head()"
      ],
      "metadata": {
        "colab": {
          "base_uri": "https://localhost:8080/",
          "height": 206
        },
        "id": "IbPtqgBYJ2GH",
        "outputId": "b490f804-f368-4c36-fa74-ae82af83d873"
      },
      "execution_count": 66,
      "outputs": [
        {
          "output_type": "execute_result",
          "data": {
            "text/plain": [
              "  Timeframe    Week of  counts_2019   2020 counts (31 counters)  2021 Counts  \\\n",
              "0    Week 1 2020-12-30       167679                      183546          0.0   \n",
              "1    Week 2 2020-01-06        82340                       97140          0.0   \n",
              "2    Week 3 2020-01-13        62315                       75782          0.0   \n",
              "3    Week 4 2020-01-20        75801                       83809          0.0   \n",
              "4    Week 5 2020-01-27        75841                       94738          0.0   \n",
              "\n",
              "   Change 2019-2020  Unnamed: 6  \n",
              "0          0.094627    1.094627  \n",
              "1          0.179743  117.974253  \n",
              "2          0.216112  121.611169  \n",
              "3          0.105645  110.564504  \n",
              "4          0.249166  124.916602  "
            ],
            "text/html": [
              "\n",
              "  <div id=\"df-b26946b8-342a-4065-9b35-740d3ff1749a\">\n",
              "    <div class=\"colab-df-container\">\n",
              "      <div>\n",
              "<style scoped>\n",
              "    .dataframe tbody tr th:only-of-type {\n",
              "        vertical-align: middle;\n",
              "    }\n",
              "\n",
              "    .dataframe tbody tr th {\n",
              "        vertical-align: top;\n",
              "    }\n",
              "\n",
              "    .dataframe thead th {\n",
              "        text-align: right;\n",
              "    }\n",
              "</style>\n",
              "<table border=\"1\" class=\"dataframe\">\n",
              "  <thead>\n",
              "    <tr style=\"text-align: right;\">\n",
              "      <th></th>\n",
              "      <th>Timeframe</th>\n",
              "      <th>Week of</th>\n",
              "      <th>counts_2019</th>\n",
              "      <th>2020 counts (31 counters)</th>\n",
              "      <th>2021 Counts</th>\n",
              "      <th>Change 2019-2020</th>\n",
              "      <th>Unnamed: 6</th>\n",
              "    </tr>\n",
              "  </thead>\n",
              "  <tbody>\n",
              "    <tr>\n",
              "      <th>0</th>\n",
              "      <td>Week 1</td>\n",
              "      <td>2020-12-30</td>\n",
              "      <td>167679</td>\n",
              "      <td>183546</td>\n",
              "      <td>0.0</td>\n",
              "      <td>0.094627</td>\n",
              "      <td>1.094627</td>\n",
              "    </tr>\n",
              "    <tr>\n",
              "      <th>1</th>\n",
              "      <td>Week 2</td>\n",
              "      <td>2020-01-06</td>\n",
              "      <td>82340</td>\n",
              "      <td>97140</td>\n",
              "      <td>0.0</td>\n",
              "      <td>0.179743</td>\n",
              "      <td>117.974253</td>\n",
              "    </tr>\n",
              "    <tr>\n",
              "      <th>2</th>\n",
              "      <td>Week 3</td>\n",
              "      <td>2020-01-13</td>\n",
              "      <td>62315</td>\n",
              "      <td>75782</td>\n",
              "      <td>0.0</td>\n",
              "      <td>0.216112</td>\n",
              "      <td>121.611169</td>\n",
              "    </tr>\n",
              "    <tr>\n",
              "      <th>3</th>\n",
              "      <td>Week 4</td>\n",
              "      <td>2020-01-20</td>\n",
              "      <td>75801</td>\n",
              "      <td>83809</td>\n",
              "      <td>0.0</td>\n",
              "      <td>0.105645</td>\n",
              "      <td>110.564504</td>\n",
              "    </tr>\n",
              "    <tr>\n",
              "      <th>4</th>\n",
              "      <td>Week 5</td>\n",
              "      <td>2020-01-27</td>\n",
              "      <td>75841</td>\n",
              "      <td>94738</td>\n",
              "      <td>0.0</td>\n",
              "      <td>0.249166</td>\n",
              "      <td>124.916602</td>\n",
              "    </tr>\n",
              "  </tbody>\n",
              "</table>\n",
              "</div>\n",
              "      <button class=\"colab-df-convert\" onclick=\"convertToInteractive('df-b26946b8-342a-4065-9b35-740d3ff1749a')\"\n",
              "              title=\"Convert this dataframe to an interactive table.\"\n",
              "              style=\"display:none;\">\n",
              "        \n",
              "  <svg xmlns=\"http://www.w3.org/2000/svg\" height=\"24px\"viewBox=\"0 0 24 24\"\n",
              "       width=\"24px\">\n",
              "    <path d=\"M0 0h24v24H0V0z\" fill=\"none\"/>\n",
              "    <path d=\"M18.56 5.44l.94 2.06.94-2.06 2.06-.94-2.06-.94-.94-2.06-.94 2.06-2.06.94zm-11 1L8.5 8.5l.94-2.06 2.06-.94-2.06-.94L8.5 2.5l-.94 2.06-2.06.94zm10 10l.94 2.06.94-2.06 2.06-.94-2.06-.94-.94-2.06-.94 2.06-2.06.94z\"/><path d=\"M17.41 7.96l-1.37-1.37c-.4-.4-.92-.59-1.43-.59-.52 0-1.04.2-1.43.59L10.3 9.45l-7.72 7.72c-.78.78-.78 2.05 0 2.83L4 21.41c.39.39.9.59 1.41.59.51 0 1.02-.2 1.41-.59l7.78-7.78 2.81-2.81c.8-.78.8-2.07 0-2.86zM5.41 20L4 18.59l7.72-7.72 1.47 1.35L5.41 20z\"/>\n",
              "  </svg>\n",
              "      </button>\n",
              "      \n",
              "  <style>\n",
              "    .colab-df-container {\n",
              "      display:flex;\n",
              "      flex-wrap:wrap;\n",
              "      gap: 12px;\n",
              "    }\n",
              "\n",
              "    .colab-df-convert {\n",
              "      background-color: #E8F0FE;\n",
              "      border: none;\n",
              "      border-radius: 50%;\n",
              "      cursor: pointer;\n",
              "      display: none;\n",
              "      fill: #1967D2;\n",
              "      height: 32px;\n",
              "      padding: 0 0 0 0;\n",
              "      width: 32px;\n",
              "    }\n",
              "\n",
              "    .colab-df-convert:hover {\n",
              "      background-color: #E2EBFA;\n",
              "      box-shadow: 0px 1px 2px rgba(60, 64, 67, 0.3), 0px 1px 3px 1px rgba(60, 64, 67, 0.15);\n",
              "      fill: #174EA6;\n",
              "    }\n",
              "\n",
              "    [theme=dark] .colab-df-convert {\n",
              "      background-color: #3B4455;\n",
              "      fill: #D2E3FC;\n",
              "    }\n",
              "\n",
              "    [theme=dark] .colab-df-convert:hover {\n",
              "      background-color: #434B5C;\n",
              "      box-shadow: 0px 1px 3px 1px rgba(0, 0, 0, 0.15);\n",
              "      filter: drop-shadow(0px 1px 2px rgba(0, 0, 0, 0.3));\n",
              "      fill: #FFFFFF;\n",
              "    }\n",
              "  </style>\n",
              "\n",
              "      <script>\n",
              "        const buttonEl =\n",
              "          document.querySelector('#df-b26946b8-342a-4065-9b35-740d3ff1749a button.colab-df-convert');\n",
              "        buttonEl.style.display =\n",
              "          google.colab.kernel.accessAllowed ? 'block' : 'none';\n",
              "\n",
              "        async function convertToInteractive(key) {\n",
              "          const element = document.querySelector('#df-b26946b8-342a-4065-9b35-740d3ff1749a');\n",
              "          const dataTable =\n",
              "            await google.colab.kernel.invokeFunction('convertToInteractive',\n",
              "                                                     [key], {});\n",
              "          if (!dataTable) return;\n",
              "\n",
              "          const docLinkHtml = 'Like what you see? Visit the ' +\n",
              "            '<a target=\"_blank\" href=https://colab.research.google.com/notebooks/data_table.ipynb>data table notebook</a>'\n",
              "            + ' to learn more about interactive tables.';\n",
              "          element.innerHTML = '';\n",
              "          dataTable['output_type'] = 'display_data';\n",
              "          await google.colab.output.renderOutput(dataTable, element);\n",
              "          const docLink = document.createElement('div');\n",
              "          docLink.innerHTML = docLinkHtml;\n",
              "          element.appendChild(docLink);\n",
              "        }\n",
              "      </script>\n",
              "    </div>\n",
              "  </div>\n",
              "  "
            ]
          },
          "metadata": {},
          "execution_count": 66
        }
      ]
    }
  ]
}